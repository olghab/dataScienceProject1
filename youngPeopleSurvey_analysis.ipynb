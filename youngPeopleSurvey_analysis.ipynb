{
 "cells": [
  {
   "cell_type": "code",
   "execution_count": 10,
   "metadata": {},
   "outputs": [
    {
     "name": "stdout",
     "output_type": "stream",
     "text": [
      "   Music  Slow songs or fast songs  Dance  Folk  Country  Classical music  \\\n",
      "0    5.0                       3.0    2.0   1.0      2.0              2.0   \n",
      "1    4.0                       4.0    2.0   1.0      1.0              1.0   \n",
      "2    5.0                       5.0    2.0   2.0      3.0              4.0   \n",
      "3    5.0                       3.0    2.0   1.0      1.0              1.0   \n",
      "4    5.0                       3.0    4.0   3.0      2.0              4.0   \n",
      "\n",
      "   Musical  Pop  Rock  Metal or Hardrock  ...   Age  Height  Weight  \\\n",
      "0      1.0  5.0   5.0                1.0  ...  20.0   163.0    48.0   \n",
      "1      2.0  3.0   5.0                4.0  ...  19.0   163.0    58.0   \n",
      "2      5.0  3.0   5.0                3.0  ...  20.0   176.0    67.0   \n",
      "3      1.0  2.0   2.0                1.0  ...  22.0   172.0    59.0   \n",
      "4      3.0  5.0   3.0                1.0  ...  20.0   170.0    59.0   \n",
      "\n",
      "   Number of siblings  Gender  Left - right handed                Education  \\\n",
      "0                 1.0  female         right handed  college/bachelor degree   \n",
      "1                 2.0  female         right handed  college/bachelor degree   \n",
      "2                 2.0  female         right handed         secondary school   \n",
      "3                 1.0  female         right handed  college/bachelor degree   \n",
      "4                 1.0  female         right handed         secondary school   \n",
      "\n",
      "   Only child  Village - town  House - block of flats  \n",
      "0          no         village          block of flats  \n",
      "1          no            city          block of flats  \n",
      "2          no            city          block of flats  \n",
      "3         yes            city          house/bungalow  \n",
      "4          no         village          house/bungalow  \n",
      "\n",
      "[5 rows x 150 columns]\n",
      "                      original                     short\n",
      "0  I enjoy listening to music.                     Music\n",
      "1                    I prefer.  Slow songs or fast songs\n",
      "2           Dance, Disco, Funk                     Dance\n",
      "3                   Folk music                      Folk\n",
      "4                      Country                   Country\n"
     ]
    },
    {
     "data": {
      "text/plain": [
       "(1010, 150)"
      ]
     },
     "execution_count": 10,
     "metadata": {},
     "output_type": "execute_result"
    }
   ],
   "source": [
    "import numpy as np\n",
    "import pandas as pd\n",
    "import matplotlib.pyplot as plt\n",
    "from sklearn.linear_model import LinearRegression\n",
    "from sklearn.model_selection import train_test_split\n",
    "from sklearn.metrics import r2_score, mean_squared_error\n",
    "import seaborn as sns\n",
    "%matplotlib inline\n",
    "\n",
    "# data\n",
    "df = pd.read_csv('./dataSet/responses.csv')\n",
    "# print(df.head())\n",
    "\n",
    "# explanation for the columns names\n",
    "# see description.txt for details\n",
    "df_columns = pd.read_csv('./dataSet/columns.csv')\n",
    "# print(df_columns.head())\n",
    "\n",
    "# data size\n",
    "df.shape\n"
   ]
  }
 ],
 "metadata": {
  "kernelspec": {
   "display_name": "Python 3",
   "language": "python",
   "name": "python3"
  },
  "language_info": {
   "codemirror_mode": {
    "name": "ipython",
    "version": 3
   },
   "file_extension": ".py",
   "mimetype": "text/x-python",
   "name": "python",
   "nbconvert_exporter": "python",
   "pygments_lexer": "ipython3",
   "version": "3.8.5"
  }
 },
 "nbformat": 4,
 "nbformat_minor": 4
}
